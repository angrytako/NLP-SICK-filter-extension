{
 "cells": [
  {
   "cell_type": "code",
   "execution_count": 27,
   "metadata": {},
   "outputs": [],
   "source": [
    "import pandas as pd \n",
    "import numpy as np \n",
    "import torch\n",
    "from torch import nn\n",
    "from datetime import datetime\n",
    "import itertools"
   ]
  },
  {
   "cell_type": "markdown",
   "metadata": {},
   "source": [
    "mode = \"train\" | \"predict\""
   ]
  },
  {
   "cell_type": "code",
   "execution_count": 20,
   "metadata": {},
   "outputs": [],
   "source": [
    "learning_rate = 1e-6\n",
    "num_iterations = 2000\n",
    "mode = \"test\"\n",
    "save_model = False\n",
    "load_model = False\n",
    "model_save_path = \"./model\" #it will have automatically appended the current date\n",
    "model_load_path = \"model2024-01-25_16_38.pt\""
   ]
  },
  {
   "cell_type": "code",
   "execution_count": 3,
   "metadata": {},
   "outputs": [],
   "source": [
    "device = \"cuda\" if torch.cuda.is_available() else \"cpu\""
   ]
  },
  {
   "cell_type": "code",
   "execution_count": 4,
   "metadata": {},
   "outputs": [
    {
     "data": {
      "text/plain": [
       "'cuda'"
      ]
     },
     "execution_count": 4,
     "metadata": {},
     "output_type": "execute_result"
    }
   ],
   "source": [
    "device"
   ]
  },
  {
   "cell_type": "code",
   "execution_count": 5,
   "metadata": {},
   "outputs": [],
   "source": [
    "class Classifier(nn.Module):\n",
    "    def __init__(self, dim_input, num_classes):\n",
    "        super().__init__()\n",
    "        #self.classifier = nn.Linear(dim_input, num_classes)\n",
    "        self.model = nn.Sequential(\n",
    "            nn.Linear(dim_input, 64),\n",
    "            nn.ReLU(),\n",
    "            nn.Linear(64, 32),\n",
    "            nn.ReLU(),\n",
    "            nn.Linear(32, num_classes),\n",
    "            nn.Softmax(dim=1)\n",
    "        )\n",
    "#should return logits and features\n",
    "#features is ignored for now\n",
    "    def forward(self, x):\n",
    "        return self.model(x)\n",
    "       # return self.classifier(x), {}\n"
   ]
  },
  {
   "cell_type": "code",
   "execution_count": 6,
   "metadata": {},
   "outputs": [],
   "source": [
    "df = pd.read_pickle(\"./comet_samsum_test_z_entire.pkl\")"
   ]
  },
  {
   "cell_type": "code",
   "execution_count": 7,
   "metadata": {},
   "outputs": [],
   "source": [
    "ohe_dict= \\\n",
    "{'xNeed': np.array([1,0,0,0,0], dtype=np.float32),\n",
    " 'xIntent': np.array([0,1,0,0,0], dtype=np.float32),\n",
    " 'HinderedBy': np.array([0,0,1,0,0], dtype=np.float32),\n",
    " 'xWant':  np.array([0,0,0,1,0], dtype=np.float32),\n",
    " 'xReason':  np.array([0,0,0,0,1], dtype=np.float32)}"
   ]
  },
  {
   "cell_type": "code",
   "execution_count": 8,
   "metadata": {},
   "outputs": [],
   "source": [
    "df[\"cs_type_ohe\"] = df[\"cs_type\"].map(ohe_dict)\n",
    "preprocessed = df[[\"sample_id\",\"sentence_id\", \"cs_type_ohe\",\"cs_encoded\", \"cos_similary_cs_summmary\"]]\n"
   ]
  },
  {
   "cell_type": "code",
   "execution_count": 9,
   "metadata": {},
   "outputs": [
    {
     "data": {
      "text/plain": [
       "{384}"
      ]
     },
     "execution_count": 9,
     "metadata": {},
     "output_type": "execute_result"
    }
   ],
   "source": [
    "set(preprocessed[\"cs_encoded\"].transform(len))"
   ]
  },
  {
   "cell_type": "code",
   "execution_count": 11,
   "metadata": {},
   "outputs": [
    {
     "name": "stderr",
     "output_type": "stream",
     "text": [
      "C:\\Users\\NonAv\\AppData\\Local\\Temp\\ipykernel_2628\\3403830363.py:1: SettingWithCopyWarning: \n",
      "A value is trying to be set on a copy of a slice from a DataFrame.\n",
      "Try using .loc[row_indexer,col_indexer] = value instead\n",
      "\n",
      "See the caveats in the documentation: https://pandas.pydata.org/pandas-docs/stable/user_guide/indexing.html#returning-a-view-versus-a-copy\n",
      "  preprocessed[\"complete_target_X\"] =preprocessed[[\"cs_type_ohe\",\"cs_encoded\"]].apply(lambda row: np.append(row[0],row[1]), axis=1)\n"
     ]
    }
   ],
   "source": [
    "preprocessed[\"complete_target_X\"] =preprocessed[[\"cs_type_ohe\",\"cs_encoded\"]].apply(lambda row: np.append(row[0],row[1]), axis=1)"
   ]
  },
  {
   "cell_type": "code",
   "execution_count": 12,
   "metadata": {},
   "outputs": [
    {
     "data": {
      "text/html": [
       "<div>\n",
       "<style scoped>\n",
       "    .dataframe tbody tr th:only-of-type {\n",
       "        vertical-align: middle;\n",
       "    }\n",
       "\n",
       "    .dataframe tbody tr th {\n",
       "        vertical-align: top;\n",
       "    }\n",
       "\n",
       "    .dataframe thead th {\n",
       "        text-align: right;\n",
       "    }\n",
       "</style>\n",
       "<table border=\"1\" class=\"dataframe\">\n",
       "  <thead>\n",
       "    <tr style=\"text-align: right;\">\n",
       "      <th></th>\n",
       "      <th>sample_id</th>\n",
       "      <th>sentence_id</th>\n",
       "      <th>X</th>\n",
       "      <th>Y</th>\n",
       "    </tr>\n",
       "  </thead>\n",
       "  <tbody>\n",
       "    <tr>\n",
       "      <th>0</th>\n",
       "      <td>13611370</td>\n",
       "      <td>0</td>\n",
       "      <td>[0.0, 0.0, 1.0, 0.0, 0.0, 0.005920287, -0.0092...</td>\n",
       "      <td>[0.3164701759815216, 0.3950572609901428, 0.384...</td>\n",
       "    </tr>\n",
       "    <tr>\n",
       "      <th>1</th>\n",
       "      <td>13611370</td>\n",
       "      <td>1</td>\n",
       "      <td>[0.0, 0.0, 1.0, 0.0, 0.0, 0.041891553, 0.07421...</td>\n",
       "      <td>[0.40869206190109253, 0.41971734166145325, 0.4...</td>\n",
       "    </tr>\n",
       "    <tr>\n",
       "      <th>2</th>\n",
       "      <td>13611370</td>\n",
       "      <td>2</td>\n",
       "      <td>[0.0, 0.0, 1.0, 0.0, 0.0, 0.06959674, 0.007380...</td>\n",
       "      <td>[0.31288936734199524, 0.35756880044937134, 0.3...</td>\n",
       "    </tr>\n",
       "    <tr>\n",
       "      <th>3</th>\n",
       "      <td>13611370</td>\n",
       "      <td>3</td>\n",
       "      <td>[0.0, 0.0, 1.0, 0.0, 0.0, 0.020754024, -0.0092...</td>\n",
       "      <td>[0.07747259736061096, 0.08857818692922592, 0.0...</td>\n",
       "    </tr>\n",
       "  </tbody>\n",
       "</table>\n",
       "</div>"
      ],
      "text/plain": [
       "  sample_id  sentence_id                                                  X  \\\n",
       "0  13611370            0  [0.0, 0.0, 1.0, 0.0, 0.0, 0.005920287, -0.0092...   \n",
       "1  13611370            1  [0.0, 0.0, 1.0, 0.0, 0.0, 0.041891553, 0.07421...   \n",
       "2  13611370            2  [0.0, 0.0, 1.0, 0.0, 0.0, 0.06959674, 0.007380...   \n",
       "3  13611370            3  [0.0, 0.0, 1.0, 0.0, 0.0, 0.020754024, -0.0092...   \n",
       "\n",
       "                                                   Y  \n",
       "0  [0.3164701759815216, 0.3950572609901428, 0.384...  \n",
       "1  [0.40869206190109253, 0.41971734166145325, 0.4...  \n",
       "2  [0.31288936734199524, 0.35756880044937134, 0.3...  \n",
       "3  [0.07747259736061096, 0.08857818692922592, 0.0...  "
      ]
     },
     "execution_count": 12,
     "metadata": {},
     "output_type": "execute_result"
    }
   ],
   "source": [
    "new_df = preprocessed.groupby(['sample_id','sentence_id']).agg(X=(\"complete_target_X\",lambda x: list(itertools.chain.from_iterable(x))),Y=('cos_similary_cs_summmary',list))\n",
    "\n",
    "new_df.reset_index() "
   ]
  },
  {
   "cell_type": "code",
   "execution_count": 21,
   "metadata": {},
   "outputs": [],
   "source": [
    "model = Classifier(dim_input=9725, num_classes=25).to(device)\n",
    "if load_model:\n",
    "    model.load_state_dict(torch.load(model_load_path))"
   ]
  },
  {
   "cell_type": "code",
   "execution_count": 22,
   "metadata": {},
   "outputs": [],
   "source": [
    "sm =  nn.Softmax(dim=1)"
   ]
  },
  {
   "cell_type": "code",
   "execution_count": 23,
   "metadata": {},
   "outputs": [],
   "source": [
    "X = torch.tensor(new_df[\"X\"]).to(device)\n",
    "Y = sm(torch.tensor(new_df[\"Y\"])).to(device)"
   ]
  },
  {
   "cell_type": "code",
   "execution_count": 24,
   "metadata": {},
   "outputs": [
    {
     "name": "stdout",
     "output_type": "stream",
     "text": [
      "99 0.0023943614214658737\n",
      "199 0.0023943614214658737\n",
      "299 0.0023943614214658737\n",
      "399 0.0023943614214658737\n",
      "499 0.0023943614214658737\n",
      "599 0.0023943614214658737\n",
      "699 0.0023943614214658737\n",
      "799 0.0023943614214658737\n",
      "899 0.0023943614214658737\n",
      "999 0.0023943614214658737\n",
      "1099 0.0023943614214658737\n",
      "1199 0.0023943614214658737\n",
      "1299 0.0023943614214658737\n",
      "1399 0.0023943614214658737\n",
      "1499 0.0023943614214658737\n",
      "1599 0.0023943614214658737\n",
      "1699 0.0023943614214658737\n",
      "1799 0.0023943614214658737\n",
      "1899 0.0023943614214658737\n",
      "1999 0.0023943614214658737\n"
     ]
    }
   ],
   "source": [
    "if mode == \"train\":\n",
    "    for t in range(num_iterations):\n",
    "        # Forward pass: compute predicted y using operations on Tensors.\n",
    "        y_pred = model(X)\n",
    "\n",
    "        # Compute and print loss using operations on Tensors.\n",
    "        # Now loss is a Tensor of shape (1,)\n",
    "        # loss.item() gets the scalar value held in the loss.\n",
    "        loss = (y_pred - Y).pow(2).sum()\n",
    "        if t % 100 == 99:\n",
    "            print(t, loss.item())\n",
    "\n",
    "        # Use autograd to compute the backward pass. This call will compute the\n",
    "        # gradient of loss with respect to all Tensors with requires_grad=True.\n",
    "        # After this call a.grad, b.grad. c.grad and d.grad will be Tensors holding\n",
    "        # the gradient of the loss with respect to a, b, c, d respectively.\n",
    "        loss.backward()"
   ]
  },
  {
   "cell_type": "code",
   "execution_count": 25,
   "metadata": {},
   "outputs": [],
   "source": [
    "if save_model:\n",
    "    torch.save(model.state_dict(), f\"{model_save_path}{datetime.today().strftime('%Y-%m-%d_%H_%M')}.pt\")"
   ]
  },
  {
   "cell_type": "code",
   "execution_count": 62,
   "metadata": {},
   "outputs": [],
   "source": [
    "def test(X,Y, model, loss_fn):\n",
    "    test_loss, correct = 0, 0\n",
    "    with torch.no_grad():\n",
    "        X, Y = X.to(device), Y.to(device)\n",
    "        pred = model(X)\n",
    "        test_loss = loss_fn(pred, Y)\n",
    "        #correct = \n",
    "        for i,similarities in enumerate(pred):\n",
    "            correct +=int(similarities.argmax() == Y[i].argmax())\n",
    "    print(f\"Test Error: \\n Accuracy: {(100*correct):>0.1f}%, Avg loss: {test_loss:>8f} \\n\")"
   ]
  },
  {
   "cell_type": "code",
   "execution_count": 30,
   "metadata": {},
   "outputs": [],
   "source": [
    "mode = \"test\""
   ]
  },
  {
   "cell_type": "code",
   "execution_count": 64,
   "metadata": {},
   "outputs": [
    {
     "name": "stdout",
     "output_type": "stream",
     "text": [
      "Test Error: \n",
      " Accuracy: 0.0%, Avg loss: 0.002394 \n",
      "\n"
     ]
    }
   ],
   "source": [
    "if mode == \"test\" or mode == \"train\":\n",
    "    test(X,Y, model, lambda y_pred, Y: (y_pred - Y).pow(2).sum())"
   ]
  }
 ],
 "metadata": {
  "kernelspec": {
   "display_name": "base",
   "language": "python",
   "name": "python3"
  },
  "language_info": {
   "codemirror_mode": {
    "name": "ipython",
    "version": 3
   },
   "file_extension": ".py",
   "mimetype": "text/x-python",
   "name": "python",
   "nbconvert_exporter": "python",
   "pygments_lexer": "ipython3",
   "version": "3.10.9"
  }
 },
 "nbformat": 4,
 "nbformat_minor": 2
}
