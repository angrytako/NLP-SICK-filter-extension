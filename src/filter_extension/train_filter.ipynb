{
 "cells": [
  {
   "cell_type": "code",
   "execution_count": null,
   "metadata": {},
   "outputs": [],
   "source": [
    "pip install torch"
   ]
  },
  {
   "cell_type": "code",
   "execution_count": 1,
   "metadata": {},
   "outputs": [
    {
     "ename": "ModuleNotFoundError",
     "evalue": "No module named 'torch'",
     "output_type": "error",
     "traceback": [
      "\u001b[1;31m---------------------------------------------------------------------------\u001b[0m",
      "\u001b[1;31mModuleNotFoundError\u001b[0m                       Traceback (most recent call last)",
      "\u001b[1;32m~\\AppData\\Local\\Temp/ipykernel_12184/3966510980.py\u001b[0m in \u001b[0;36m<module>\u001b[1;34m\u001b[0m\n\u001b[0;32m      1\u001b[0m \u001b[1;32mimport\u001b[0m \u001b[0mpandas\u001b[0m \u001b[1;32mas\u001b[0m \u001b[0mpd\u001b[0m\u001b[1;33m\u001b[0m\u001b[1;33m\u001b[0m\u001b[0m\n\u001b[0;32m      2\u001b[0m \u001b[1;32mimport\u001b[0m \u001b[0mnumpy\u001b[0m \u001b[1;32mas\u001b[0m \u001b[0mnp\u001b[0m\u001b[1;33m\u001b[0m\u001b[1;33m\u001b[0m\u001b[0m\n\u001b[1;32m----> 3\u001b[1;33m \u001b[1;32mimport\u001b[0m \u001b[0mtorch\u001b[0m\u001b[1;33m\u001b[0m\u001b[1;33m\u001b[0m\u001b[0m\n\u001b[0m\u001b[0;32m      4\u001b[0m \u001b[1;32mfrom\u001b[0m \u001b[0mtorch\u001b[0m \u001b[1;32mimport\u001b[0m \u001b[0mnn\u001b[0m\u001b[1;33m\u001b[0m\u001b[1;33m\u001b[0m\u001b[0m\n\u001b[0;32m      5\u001b[0m \u001b[1;32mfrom\u001b[0m \u001b[0mdatetime\u001b[0m \u001b[1;32mimport\u001b[0m \u001b[0mdatetime\u001b[0m\u001b[1;33m\u001b[0m\u001b[1;33m\u001b[0m\u001b[0m\n",
      "\u001b[1;31mModuleNotFoundError\u001b[0m: No module named 'torch'"
     ]
    }
   ],
   "source": [
    "import pandas as pd \n",
    "import numpy as np \n",
    "import torch\n",
    "from torch import nn\n",
    "from datetime import datetime\n",
    "import itertools"
   ]
  },
  {
   "cell_type": "markdown",
   "metadata": {},
   "source": [
    "mode = \"train\" | \"predict\""
   ]
  },
  {
   "cell_type": "code",
   "execution_count": null,
   "metadata": {},
   "outputs": [],
   "source": [
    "learning_rate = 1e-6\n",
    "num_iterations = 2000\n",
    "mode = \"train\"\n",
    "save_model = False\n",
    "load_model = False\n",
    "model_save_path = \"./model\" #it will have automatically appended the current date\n",
    "model_load_path = \"model2024-01-25_16_38.pt\""
   ]
  },
  {
   "cell_type": "code",
   "execution_count": null,
   "metadata": {},
   "outputs": [],
   "source": [
    "device = \"cuda\" if torch.cuda.is_available() else \"cpu\""
   ]
  },
  {
   "cell_type": "code",
   "execution_count": 4,
   "metadata": {},
   "outputs": [
    {
     "data": {
      "text/plain": [
       "'cuda'"
      ]
     },
     "execution_count": 4,
     "metadata": {},
     "output_type": "execute_result"
    }
   ],
   "source": [
    "device"
   ]
  },
  {
   "cell_type": "code",
   "execution_count": 5,
   "metadata": {},
   "outputs": [],
   "source": [
    "# this is the initialization line in the original code:\n",
    "# models[m] = getattr(model_list, args.models[m].model)()\n",
    "class Classifier(nn.Module):\n",
    "    def __init__(self, dim_input, num_classes):\n",
    "        super().__init__()\n",
    "        self.model = nn.Sequential(\n",
    "            nn.Linear(dim_input, 1500),\n",
    "            nn.ReLU(),\n",
    "            nn.Linear(1500, 780),\n",
    "            nn.ReLU(),\n",
    "            nn.Linear(780, num_classes),\n",
    "        )\n",
    "        self.softmax = nn.Softmax()\n",
    "\n",
    "    # should return logits and features\n",
    "    def forward(self, x):\n",
    "        logits = self.model(x)\n",
    "        prob = self.softmax(logits)\n",
    "        return logits, prob"
   ]
  },
  {
   "cell_type": "code",
   "execution_count": 6,
   "metadata": {},
   "outputs": [],
   "source": [
    "df = pd.read_pickle(\"./comet_samsum_train_pt1_z_entire.pkl\")"
   ]
  },
  {
   "cell_type": "code",
   "execution_count": 7,
   "metadata": {},
   "outputs": [],
   "source": [
    "ohe_dict= \\\n",
    "{'xNeed': np.array([1,0,0,0,0], dtype=np.float32),\n",
    " 'xIntent': np.array([0,1,0,0,0], dtype=np.float32),\n",
    " 'HinderedBy': np.array([0,0,1,0,0], dtype=np.float32),\n",
    " 'xWant':  np.array([0,0,0,1,0], dtype=np.float32),\n",
    " 'xReason':  np.array([0,0,0,0,1], dtype=np.float32)}"
   ]
  },
  {
   "cell_type": "code",
   "execution_count": 8,
   "metadata": {},
   "outputs": [],
   "source": [
    "df[\"cs_type_ohe\"] = df[\"cs_type\"].map(ohe_dict)\n",
    "preprocessed = df[[\"sample_id\",\"sentence_id\", \"cs_type_ohe\",\"cs_encoded\", \"cos_similary_cs_summmary\"]]\n"
   ]
  },
  {
   "cell_type": "code",
   "execution_count": 9,
   "metadata": {},
   "outputs": [
    {
     "data": {
      "text/plain": [
       "{384}"
      ]
     },
     "execution_count": 9,
     "metadata": {},
     "output_type": "execute_result"
    }
   ],
   "source": [
    "set(preprocessed[\"cs_encoded\"].transform(len))"
   ]
  },
  {
   "cell_type": "code",
   "execution_count": 10,
   "metadata": {},
   "outputs": [
    {
     "name": "stderr",
     "output_type": "stream",
     "text": [
      "C:\\Users\\NonAv\\AppData\\Local\\Temp\\ipykernel_6220\\3403830363.py:1: SettingWithCopyWarning: \n",
      "A value is trying to be set on a copy of a slice from a DataFrame.\n",
      "Try using .loc[row_indexer,col_indexer] = value instead\n",
      "\n",
      "See the caveats in the documentation: https://pandas.pydata.org/pandas-docs/stable/user_guide/indexing.html#returning-a-view-versus-a-copy\n",
      "  preprocessed[\"complete_target_X\"] =preprocessed[[\"cs_type_ohe\",\"cs_encoded\"]].apply(lambda row: np.append(row[0],row[1]), axis=1)\n"
     ]
    }
   ],
   "source": [
    "preprocessed[\"complete_target_X\"] =preprocessed[[\"cs_type_ohe\",\"cs_encoded\"]].apply(lambda row: np.append(row[0],row[1]), axis=1)"
   ]
  },
  {
   "cell_type": "code",
   "execution_count": 11,
   "metadata": {},
   "outputs": [
    {
     "data": {
      "text/html": [
       "<div>\n",
       "<style scoped>\n",
       "    .dataframe tbody tr th:only-of-type {\n",
       "        vertical-align: middle;\n",
       "    }\n",
       "\n",
       "    .dataframe tbody tr th {\n",
       "        vertical-align: top;\n",
       "    }\n",
       "\n",
       "    .dataframe thead th {\n",
       "        text-align: right;\n",
       "    }\n",
       "</style>\n",
       "<table border=\"1\" class=\"dataframe\">\n",
       "  <thead>\n",
       "    <tr style=\"text-align: right;\">\n",
       "      <th></th>\n",
       "      <th>sample_id</th>\n",
       "      <th>sentence_id</th>\n",
       "      <th>X</th>\n",
       "      <th>Y</th>\n",
       "    </tr>\n",
       "  </thead>\n",
       "  <tbody>\n",
       "    <tr>\n",
       "      <th>0</th>\n",
       "      <td>13594093-1</td>\n",
       "      <td>0</td>\n",
       "      <td>[0.0, 0.0, 1.0, 0.0, 0.0, 0.04179999, -0.06145...</td>\n",
       "      <td>[0.4460858702659607, 0.10253575444221497, 0.39...</td>\n",
       "    </tr>\n",
       "    <tr>\n",
       "      <th>1</th>\n",
       "      <td>13594093-1</td>\n",
       "      <td>1</td>\n",
       "      <td>[0.0, 0.0, 1.0, 0.0, 0.0, 0.07628163, 0.022710...</td>\n",
       "      <td>[0.46707096695899963, 0.625717043876648, 0.420...</td>\n",
       "    </tr>\n",
       "    <tr>\n",
       "      <th>2</th>\n",
       "      <td>13594093-1</td>\n",
       "      <td>2</td>\n",
       "      <td>[0.0, 0.0, 1.0, 0.0, 0.0, 0.048776504, -0.0190...</td>\n",
       "      <td>[0.4569098949432373, 0.5190892815589905, 0.514...</td>\n",
       "    </tr>\n",
       "    <tr>\n",
       "      <th>3</th>\n",
       "      <td>13594093-1</td>\n",
       "      <td>3</td>\n",
       "      <td>[0.0, 0.0, 1.0, 0.0, 0.0, 0.051447965, 0.00174...</td>\n",
       "      <td>[0.5159580707550049, 0.5018062591552734, 0.538...</td>\n",
       "    </tr>\n",
       "    <tr>\n",
       "      <th>4</th>\n",
       "      <td>13594093-1</td>\n",
       "      <td>4</td>\n",
       "      <td>[0.0, 0.0, 1.0, 0.0, 0.0, 0.021506669, 0.00280...</td>\n",
       "      <td>[0.524988055229187, 0.4604058563709259, 0.5279...</td>\n",
       "    </tr>\n",
       "    <tr>\n",
       "      <th>...</th>\n",
       "      <td>...</td>\n",
       "      <td>...</td>\n",
       "      <td>...</td>\n",
       "      <td>...</td>\n",
       "    </tr>\n",
       "    <tr>\n",
       "      <th>16994</th>\n",
       "      <td>13680254</td>\n",
       "      <td>12</td>\n",
       "      <td>[0.0, 0.0, 1.0, 0.0, 0.0, -0.05868202, -0.0289...</td>\n",
       "      <td>[0.4484512209892273, 0.47776907682418823, 0.45...</td>\n",
       "    </tr>\n",
       "    <tr>\n",
       "      <th>16995</th>\n",
       "      <td>13680255</td>\n",
       "      <td>0</td>\n",
       "      <td>[0.0, 0.0, 1.0, 0.0, 0.0, -0.04349251, -0.0292...</td>\n",
       "      <td>[0.18616735935211182, 0.20535486936569214, 0.2...</td>\n",
       "    </tr>\n",
       "    <tr>\n",
       "      <th>16996</th>\n",
       "      <td>13680255</td>\n",
       "      <td>1</td>\n",
       "      <td>[0.0, 0.0, 1.0, 0.0, 0.0, 0.006769986, 0.02239...</td>\n",
       "      <td>[0.6260838508605957, 0.5228524208068848, 0.626...</td>\n",
       "    </tr>\n",
       "    <tr>\n",
       "      <th>16997</th>\n",
       "      <td>13680255</td>\n",
       "      <td>2</td>\n",
       "      <td>[0.0, 0.0, 1.0, 0.0, 0.0, 0.064037874, 0.04827...</td>\n",
       "      <td>[0.22459957003593445, 0.2936783730983734, 0.25...</td>\n",
       "    </tr>\n",
       "    <tr>\n",
       "      <th>16998</th>\n",
       "      <td>13680255</td>\n",
       "      <td>3</td>\n",
       "      <td>[0.0, 0.0, 1.0, 0.0, 0.0, -0.064433776, -0.022...</td>\n",
       "      <td>[0.1867697834968567, 0.1730320304632187, 0.158...</td>\n",
       "    </tr>\n",
       "  </tbody>\n",
       "</table>\n",
       "<p>16999 rows × 4 columns</p>\n",
       "</div>"
      ],
      "text/plain": [
       "        sample_id  sentence_id  \\\n",
       "0      13594093-1            0   \n",
       "1      13594093-1            1   \n",
       "2      13594093-1            2   \n",
       "3      13594093-1            3   \n",
       "4      13594093-1            4   \n",
       "...           ...          ...   \n",
       "16994    13680254           12   \n",
       "16995    13680255            0   \n",
       "16996    13680255            1   \n",
       "16997    13680255            2   \n",
       "16998    13680255            3   \n",
       "\n",
       "                                                       X  \\\n",
       "0      [0.0, 0.0, 1.0, 0.0, 0.0, 0.04179999, -0.06145...   \n",
       "1      [0.0, 0.0, 1.0, 0.0, 0.0, 0.07628163, 0.022710...   \n",
       "2      [0.0, 0.0, 1.0, 0.0, 0.0, 0.048776504, -0.0190...   \n",
       "3      [0.0, 0.0, 1.0, 0.0, 0.0, 0.051447965, 0.00174...   \n",
       "4      [0.0, 0.0, 1.0, 0.0, 0.0, 0.021506669, 0.00280...   \n",
       "...                                                  ...   \n",
       "16994  [0.0, 0.0, 1.0, 0.0, 0.0, -0.05868202, -0.0289...   \n",
       "16995  [0.0, 0.0, 1.0, 0.0, 0.0, -0.04349251, -0.0292...   \n",
       "16996  [0.0, 0.0, 1.0, 0.0, 0.0, 0.006769986, 0.02239...   \n",
       "16997  [0.0, 0.0, 1.0, 0.0, 0.0, 0.064037874, 0.04827...   \n",
       "16998  [0.0, 0.0, 1.0, 0.0, 0.0, -0.064433776, -0.022...   \n",
       "\n",
       "                                                       Y  \n",
       "0      [0.4460858702659607, 0.10253575444221497, 0.39...  \n",
       "1      [0.46707096695899963, 0.625717043876648, 0.420...  \n",
       "2      [0.4569098949432373, 0.5190892815589905, 0.514...  \n",
       "3      [0.5159580707550049, 0.5018062591552734, 0.538...  \n",
       "4      [0.524988055229187, 0.4604058563709259, 0.5279...  \n",
       "...                                                  ...  \n",
       "16994  [0.4484512209892273, 0.47776907682418823, 0.45...  \n",
       "16995  [0.18616735935211182, 0.20535486936569214, 0.2...  \n",
       "16996  [0.6260838508605957, 0.5228524208068848, 0.626...  \n",
       "16997  [0.22459957003593445, 0.2936783730983734, 0.25...  \n",
       "16998  [0.1867697834968567, 0.1730320304632187, 0.158...  \n",
       "\n",
       "[16999 rows x 4 columns]"
      ]
     },
     "execution_count": 11,
     "metadata": {},
     "output_type": "execute_result"
    }
   ],
   "source": [
    "new_df = preprocessed.groupby(['sample_id','sentence_id']).agg(X=(\"complete_target_X\",lambda x: list(itertools.chain.from_iterable(x))),Y=('cos_similary_cs_summmary',list))\n",
    "\n",
    "new_df.reset_index() "
   ]
  },
  {
   "cell_type": "code",
   "execution_count": 12,
   "metadata": {},
   "outputs": [],
   "source": [
    "model = Classifier(dim_input=9725, num_classes=25).to(device)\n",
    "if load_model:\n",
    "    model.load_state_dict(torch.load(model_load_path))"
   ]
  },
  {
   "cell_type": "code",
   "execution_count": 13,
   "metadata": {},
   "outputs": [],
   "source": [
    "sm =  nn.Softmax(dim=1)"
   ]
  },
  {
   "cell_type": "code",
   "execution_count": 14,
   "metadata": {},
   "outputs": [],
   "source": [
    "X = torch.tensor(new_df[\"X\"]).to(device)\n",
    "Y = sm(torch.tensor(new_df[\"Y\"])).to(device)"
   ]
  },
  {
   "cell_type": "code",
   "execution_count": 16,
   "metadata": {},
   "outputs": [
    {
     "name": "stdout",
     "output_type": "stream",
     "text": [
      "99 5.749238014221191\n",
      "199 4.902899742126465\n",
      "299 4.317054271697998\n",
      "399 4.1678242683410645\n",
      "499 4.067381381988525\n",
      "599 3.984571933746338\n",
      "699 3.9158260822296143\n",
      "799 3.824004650115967\n",
      "899 3.7488973140716553\n",
      "999 3.9992377758026123\n",
      "1099 3.659132480621338\n",
      "1199 3.5584936141967773\n",
      "1299 3.8796584606170654\n",
      "1399 3.4996628761291504\n",
      "1499 3.457339286804199\n",
      "1599 3.503587245941162\n",
      "1699 3.3169212341308594\n",
      "1799 3.3714427947998047\n",
      "1899 3.266228437423706\n",
      "1999 3.2041015625\n"
     ]
    }
   ],
   "source": [
    "if mode == \"train\":\n",
    "    optimizer = torch.optim.SGD(model.parameters(), lr=0.001, momentum=0.9)\n",
    "    for t in range(num_iterations):\n",
    "        # Forward pass: compute predicted y using operations on Tensors.\n",
    "        optimizer.zero_grad()\n",
    "        y_pred = model(X)\n",
    "\n",
    "        # Compute and print loss using operations on Tensors.\n",
    "        # Now loss is a Tensor of shape (1,)\n",
    "        # loss.item() gets the scalar value held in the loss.\n",
    "        loss = (y_pred - Y).pow(2).sum()\n",
    "        if t % 100 == 99:\n",
    "            print(t, loss.item())\n",
    "\n",
    "        # Use autograd to compute the backward pass. This call will compute the\n",
    "        # gradient of loss with respect to all Tensors with requires_grad=True.\n",
    "        # After this call a.grad, b.grad. c.grad and d.grad will be Tensors holding\n",
    "        # the gradient of the loss with respect to a, b, c, d respectively.\n",
    "        loss.backward()\n",
    "        optimizer.step()"
   ]
  },
  {
   "cell_type": "code",
   "execution_count": 18,
   "metadata": {},
   "outputs": [],
   "source": [
    "if save_model:\n",
    "    torch.save(model.state_dict(), f\"{model_save_path}{datetime.today().strftime('%Y-%m-%d_%H_%M')}.pt\")"
   ]
  },
  {
   "cell_type": "code",
   "execution_count": 22,
   "metadata": {},
   "outputs": [],
   "source": [
    "def test(X,Y, model, loss_fn):\n",
    "    test_loss, correct = 0, 0\n",
    "    with torch.no_grad():\n",
    "        X, Y = X.to(device), Y.to(device)\n",
    "        pred = model(X)\n",
    "        test_loss = loss_fn(pred, Y)\n",
    "        #correct = \n",
    "        for i,similarities in enumerate(pred):\n",
    "            correct +=int(similarities.argmax() == Y[i].argmax())\n",
    "    print(f\"Test Error: \\n Accuracy: {(100*correct/len(Y)):>0.1f}%, Avg loss: {test_loss:>8f} \\n\")"
   ]
  },
  {
   "cell_type": "code",
   "execution_count": 20,
   "metadata": {},
   "outputs": [],
   "source": [
    "mode = \"test\""
   ]
  },
  {
   "cell_type": "code",
   "execution_count": 23,
   "metadata": {},
   "outputs": [
    {
     "name": "stdout",
     "output_type": "stream",
     "text": [
      "Test Error: \n",
      " Accuracy: 19.0%, Avg loss: 3.218035 \n",
      "\n"
     ]
    }
   ],
   "source": [
    "if mode == \"test\" or mode == \"train\":\n",
    "    test(X,Y, model, lambda y_pred, Y: (y_pred - Y).pow(2).sum())"
   ]
  }
 ],
 "metadata": {
  "kernelspec": {
   "display_name": "Python 3 (ipykernel)",
   "language": "python",
   "name": "python3"
  },
  "language_info": {
   "codemirror_mode": {
    "name": "ipython",
    "version": 3
   },
   "file_extension": ".py",
   "mimetype": "text/x-python",
   "name": "python",
   "nbconvert_exporter": "python",
   "pygments_lexer": "ipython3",
   "version": "3.8.10"
  }
 },
 "nbformat": 4,
 "nbformat_minor": 4
}
