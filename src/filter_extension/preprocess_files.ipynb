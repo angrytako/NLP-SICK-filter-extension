{
 "cells": [
  {
   "cell_type": "code",
   "execution_count": 1,
   "metadata": {},
   "outputs": [],
   "source": [
    "import json"
   ]
  },
  {
   "cell_type": "code",
   "execution_count": 2,
   "metadata": {},
   "outputs": [],
   "source": [
    "dataset = \"samsum\"\n",
    "dataset_type = \"train\"\n",
    "save_result_comets = True\n",
    "\n",
    "\n",
    "UNFILTERED_COMET_FILE_PATH = f\"./comet_{dataset_type}.json\"\n",
    "FILTERED_COMET_FILE_PATH = f\"./comet_{dataset_type}_z.json\"\n",
    "MERGED_COMET_FILE_PATH = f\"./comet_{dataset_type}_merged.json\"\n",
    "FILE_OUTPUT_FOLDER = \".\""
   ]
  },
  {
   "cell_type": "code",
   "execution_count": null,
   "metadata": {},
   "outputs": [],
   "source": [
    "comet_filtered = None\n",
    "comet_unfiltered = None\n",
    "with open(UNFILTERED_COMET_FILE_PATH) as f:\n",
    "    comet_unfiltered = json.loads(f.read())\n",
    "\n",
    "with open(FILTERED_COMET_FILE_PATH) as f:\n",
    "    comet_filtered = json.loads(f.read())"
   ]
  },
  {
   "cell_type": "code",
   "execution_count": 6,
   "metadata": {},
   "outputs": [
    {
     "data": {
      "text/plain": [
       "14731"
      ]
     },
     "execution_count": 6,
     "metadata": {},
     "output_type": "execute_result"
    }
   ],
   "source": [
    "len(comet_unfiltered)"
   ]
  },
  {
   "cell_type": "code",
   "execution_count": null,
   "metadata": {},
   "outputs": [],
   "source": [
    "if dataset_type == \"train\":\n",
    "    comet_unfiltered=dict(list(comet_unfiltered.items())[:2000])\n",
    "    comet_filtered=dict(list(comet_filtered.items())[:2000])\n"
   ]
  },
  {
   "cell_type": "code",
   "execution_count": 20,
   "metadata": {},
   "outputs": [],
   "source": [
    "for obj_filtered, obj_unfiltered in zip(comet_filtered.items(),comet_unfiltered.items()):\n",
    "    for key, sentence_obj in obj_filtered[1].items():\n",
    "        obj_unfiltered[1][int(key)][\"sentence\"] = sentence_obj[\"sentence\"]"
   ]
  },
  {
   "cell_type": "code",
   "execution_count": 24,
   "metadata": {},
   "outputs": [],
   "source": [
    "if dataset_type == \"train\":\n",
    "    with open(f\"{MERGED_COMET_FILE_PATH[:-5]}_pt1.json\", \"w\") as file:\n",
    "        file.write(json.dumps(dict(list(comet_unfiltered.items())[:1000]), indent=2))\n",
    "    with open(f\"{MERGED_COMET_FILE_PATH[:-5]}_pt2.json\", \"w\") as file:\n",
    "        file.write(json.dumps(dict(list(comet_unfiltered.items())[1000:]), indent=2))\n",
    "else:\n",
    "    with open(MERGED_COMET_FILE_PATH, \"w\") as file:\n",
    "                file.write(json.dumps(comet_unfiltered, indent=2))"
   ]
  }
 ],
 "metadata": {
  "kernelspec": {
   "display_name": "base",
   "language": "python",
   "name": "python3"
  },
  "language_info": {
   "codemirror_mode": {
    "name": "ipython",
    "version": 3
   },
   "file_extension": ".py",
   "mimetype": "text/x-python",
   "name": "python",
   "nbconvert_exporter": "python",
   "pygments_lexer": "ipython3",
   "version": "3.10.9"
  }
 },
 "nbformat": 4,
 "nbformat_minor": 2
}
