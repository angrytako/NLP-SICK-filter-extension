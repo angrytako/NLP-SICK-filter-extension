{
 "cells": [
  {
   "cell_type": "code",
   "execution_count": 274,
   "metadata": {},
   "outputs": [],
   "source": [
    "import json\n",
    "import re "
   ]
  },
  {
   "cell_type": "code",
   "execution_count": 275,
   "metadata": {},
   "outputs": [],
   "source": [
    "sentence_processing = True\n",
    "\n",
    "NON_FILTERED_FILE_PATH =\"./comet_validation.json\"\n",
    "FILTERED_FILE_PATH =\"./comet_validation_z.json\"\n",
    "\n",
    "NON_FILTERED_FILE_PATH =\"./comet_test.json\"\n",
    "FILTERED_FILE_PATH =\"./comet_test_z.json\"\n",
    "\n",
    "\n",
    "\n",
    "NON_FILTERED_FILE_PATH =\"./comet_train.json\"\n",
    "FILTERED_FILE_PATH =\"./comet_train_z.json\""
   ]
  },
  {
   "cell_type": "code",
   "execution_count": 276,
   "metadata": {},
   "outputs": [],
   "source": [
    "whole = None\n",
    "filtered = None"
   ]
  },
  {
   "cell_type": "code",
   "execution_count": 277,
   "metadata": {},
   "outputs": [],
   "source": [
    "with open(NON_FILTERED_FILE_PATH) as f:\n",
    "    whole = json.loads(f.read())\n",
    "with open(FILTERED_FILE_PATH) as f:\n",
    "    filtered = json.loads(f.read())"
   ]
  },
  {
   "cell_type": "code",
   "execution_count": 278,
   "metadata": {},
   "outputs": [],
   "source": [
    "whole_sentences = [[obj[\"sentence\"] for obj in sample] for sample in whole.values()][:10]"
   ]
  },
  {
   "cell_type": "code",
   "execution_count": 279,
   "metadata": {},
   "outputs": [],
   "source": [
    "is_complex_sentence = (lambda sentence : re.match(\"^#Person[12ABXY]*#:$\",sentence) is None) if sentence_processing else lambda _: True"
   ]
  },
  {
   "cell_type": "code",
   "execution_count": 280,
   "metadata": {},
   "outputs": [],
   "source": [
    "remove_person_from_sentence = (lambda sentence : re.sub(\"#Person[12ABXY]*#: \",\"\", sentence)) if sentence_processing else lambda sentence: sentence"
   ]
  },
  {
   "cell_type": "code",
   "execution_count": 281,
   "metadata": {},
   "outputs": [],
   "source": [
    "whole_sentences_filtered = [[remove_person_from_sentence(sentence) for sentence in list(filter(is_complex_sentence, sample))] for sample in whole_sentences]"
   ]
  },
  {
   "cell_type": "code",
   "execution_count": 282,
   "metadata": {},
   "outputs": [],
   "source": [
    "filtered_sentences = [[obj[\"sentence\"] for obj in sample.values()] for sample in filtered.values()][:10]"
   ]
  },
  {
   "cell_type": "code",
   "execution_count": 283,
   "metadata": {},
   "outputs": [],
   "source": [
    "matched_senteces = [list(zip(s1, s2)) for s1,s2 in list(zip(whole_sentences_filtered,filtered_sentences))]"
   ]
  },
  {
   "cell_type": "code",
   "execution_count": 284,
   "metadata": {},
   "outputs": [],
   "source": [
    "matched_senteces_flattened = [item for row in matched_senteces for item in row]"
   ]
  },
  {
   "cell_type": "code",
   "execution_count": 286,
   "metadata": {},
   "outputs": [
    {
     "data": {
      "text/plain": [
       "'Tutte le frasi del file non filtrato combaciano e sono contenute nel file filtrato? True'"
      ]
     },
     "execution_count": 286,
     "metadata": {},
     "output_type": "execute_result"
    }
   ],
   "source": [
    "f\"Tutte le frasi del file non filtrato combaciano e sono contenute nel file filtrato? {all([s1 in s2 for s1, s2 in matched_senteces_flattened])}\""
   ]
  },
  {
   "cell_type": "code",
   "execution_count": 287,
   "metadata": {},
   "outputs": [
    {
     "data": {
      "text/plain": [
       "1.0"
      ]
     },
     "execution_count": 287,
     "metadata": {},
     "output_type": "execute_result"
    }
   ],
   "source": [
    "sum([s1 in s2 for s1, s2 in matched_senteces_flattened])/len([s1 in s2 for s1, s2 in matched_senteces_flattened])"
   ]
  }
 ],
 "metadata": {
  "kernelspec": {
   "display_name": "sick",
   "language": "python",
   "name": "python3"
  },
  "language_info": {
   "codemirror_mode": {
    "name": "ipython",
    "version": 3
   },
   "file_extension": ".py",
   "mimetype": "text/x-python",
   "name": "python",
   "nbconvert_exporter": "python",
   "pygments_lexer": "ipython3",
   "version": "3.8.18"
  }
 },
 "nbformat": 4,
 "nbformat_minor": 2
}
