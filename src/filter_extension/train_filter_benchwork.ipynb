{
 "cells": [
  {
   "cell_type": "code",
   "execution_count": 1,
   "metadata": {},
   "outputs": [],
   "source": [
    "import pandas as pd \n",
    "import numpy as np \n",
    "import torch\n",
    "from torch import nn\n",
    "from datetime import datetime\n",
    "import itertools\n",
    "from classifier import *"
   ]
  },
  {
   "cell_type": "markdown",
   "metadata": {},
   "source": [
    "mode = \"train\" | \"predict\""
   ]
  },
  {
   "cell_type": "code",
   "execution_count": 2,
   "metadata": {},
   "outputs": [],
   "source": [
    "learning_rate = 1e-6\n",
    "num_iterations = 2000\n",
    "mode = \"test\"\n",
    "save_model = False\n",
    "load_model = True\n",
    "model_save_path = \"./model\" #it will have automatically appended the current date\n",
    "model_load_path = \"model2024-02-08_12_45.pt\""
   ]
  },
  {
   "cell_type": "code",
   "execution_count": 3,
   "metadata": {},
   "outputs": [],
   "source": [
    "device = \"cuda\" if torch.cuda.is_available() else \"cpu\""
   ]
  },
  {
   "cell_type": "code",
   "execution_count": 4,
   "metadata": {},
   "outputs": [
    {
     "data": {
      "text/plain": [
       "'cuda'"
      ]
     },
     "execution_count": 4,
     "metadata": {},
     "output_type": "execute_result"
    }
   ],
   "source": [
    "device"
   ]
  },
  {
   "cell_type": "code",
   "execution_count": 5,
   "metadata": {},
   "outputs": [
    {
     "data": {
      "text/plain": [
       "'class Classifier(nn.Module):\\n    def __init__(self, dim_input, num_classes):\\n        super().__init__()\\n        self.model = nn.Sequential(\\n            nn.Linear(dim_input, 1500),\\n            nn.ReLU(),\\n            nn.Linear(1500, 780),\\n            nn.ReLU(),\\n            nn.Linear(780, num_classes),\\n        )\\n        self.softmax = nn.Softmax()\\n\\n    # should return logits and features\\n    def forward(self, x):\\n        logits = self.model(x)\\n        prob = self.softmax(logits)\\n        return logits, prob'"
      ]
     },
     "execution_count": 5,
     "metadata": {},
     "output_type": "execute_result"
    }
   ],
   "source": [
    "# this is the initialization line in the original code:\n",
    "# models[m] = getattr(model_list, args.models[m].model)()\n",
    "\"\"\"class Classifier(nn.Module):\n",
    "    def __init__(self, dim_input, num_classes):\n",
    "        super().__init__()\n",
    "        self.model = nn.Sequential(\n",
    "            nn.Linear(dim_input, 1500),\n",
    "            nn.ReLU(),\n",
    "            nn.Linear(1500, 780),\n",
    "            nn.ReLU(),\n",
    "            nn.Linear(780, num_classes),\n",
    "        )\n",
    "        self.softmax = nn.Softmax()\n",
    "\n",
    "    # should return logits and features\n",
    "    def forward(self, x):\n",
    "        logits = self.model(x)\n",
    "        prob = self.softmax(logits)\n",
    "        return logits, prob\"\"\""
   ]
  },
  {
   "cell_type": "code",
   "execution_count": 6,
   "metadata": {},
   "outputs": [],
   "source": [
    "df = pd.read_pickle(\"./comet_samsum_test_z_entire.pkl\")"
   ]
  },
  {
   "cell_type": "code",
   "execution_count": 7,
   "metadata": {},
   "outputs": [],
   "source": [
    "ohe_dict= \\\n",
    "{'xNeed': np.array([1,0,0,0,0], dtype=np.float32),\n",
    " 'xIntent': np.array([0,1,0,0,0], dtype=np.float32),\n",
    " 'HinderedBy': np.array([0,0,1,0,0], dtype=np.float32),\n",
    " 'xWant':  np.array([0,0,0,1,0], dtype=np.float32),\n",
    " 'xReason':  np.array([0,0,0,0,1], dtype=np.float32)}"
   ]
  },
  {
   "cell_type": "code",
   "execution_count": 8,
   "metadata": {},
   "outputs": [],
   "source": [
    "df[\"cs_type_ohe\"] = df[\"cs_type\"].map(ohe_dict)\n",
    "preprocessed = df[[\"sample_id\",\"sentence_id\", \"cs_type_ohe\",\"cs_encoded\", \"cos_similary_cs_summmary\"]]"
   ]
  },
  {
   "cell_type": "code",
   "execution_count": 9,
   "metadata": {},
   "outputs": [
    {
     "data": {
      "text/plain": [
       "{384}"
      ]
     },
     "execution_count": 9,
     "metadata": {},
     "output_type": "execute_result"
    }
   ],
   "source": [
    "set(preprocessed[\"cs_encoded\"].transform(len))"
   ]
  },
  {
   "cell_type": "code",
   "execution_count": 10,
   "metadata": {},
   "outputs": [
    {
     "name": "stderr",
     "output_type": "stream",
     "text": [
      "C:\\Users\\NonAv\\AppData\\Local\\Temp\\ipykernel_15756\\3403830363.py:1: FutureWarning: Series.__getitem__ treating keys as positions is deprecated. In a future version, integer keys will always be treated as labels (consistent with DataFrame behavior). To access a value by position, use `ser.iloc[pos]`\n",
      "  preprocessed[\"complete_target_X\"] =preprocessed[[\"cs_type_ohe\",\"cs_encoded\"]].apply(lambda row: np.append(row[0],row[1]), axis=1)\n",
      "C:\\Users\\NonAv\\AppData\\Local\\Temp\\ipykernel_15756\\3403830363.py:1: SettingWithCopyWarning: \n",
      "A value is trying to be set on a copy of a slice from a DataFrame.\n",
      "Try using .loc[row_indexer,col_indexer] = value instead\n",
      "\n",
      "See the caveats in the documentation: https://pandas.pydata.org/pandas-docs/stable/user_guide/indexing.html#returning-a-view-versus-a-copy\n",
      "  preprocessed[\"complete_target_X\"] =preprocessed[[\"cs_type_ohe\",\"cs_encoded\"]].apply(lambda row: np.append(row[0],row[1]), axis=1)\n"
     ]
    }
   ],
   "source": [
    "preprocessed[\"complete_target_X\"] =preprocessed[[\"cs_type_ohe\",\"cs_encoded\"]].apply(lambda row: np.append(row[0],row[1]), axis=1)"
   ]
  },
  {
   "cell_type": "code",
   "execution_count": 11,
   "metadata": {},
   "outputs": [
    {
     "data": {
      "text/html": [
       "<div>\n",
       "<style scoped>\n",
       "    .dataframe tbody tr th:only-of-type {\n",
       "        vertical-align: middle;\n",
       "    }\n",
       "\n",
       "    .dataframe tbody tr th {\n",
       "        vertical-align: top;\n",
       "    }\n",
       "\n",
       "    .dataframe thead th {\n",
       "        text-align: right;\n",
       "    }\n",
       "</style>\n",
       "<table border=\"1\" class=\"dataframe\">\n",
       "  <thead>\n",
       "    <tr style=\"text-align: right;\">\n",
       "      <th></th>\n",
       "      <th>sample_id</th>\n",
       "      <th>sentence_id</th>\n",
       "      <th>X</th>\n",
       "      <th>Y</th>\n",
       "    </tr>\n",
       "  </thead>\n",
       "  <tbody>\n",
       "    <tr>\n",
       "      <th>0</th>\n",
       "      <td>13611370</td>\n",
       "      <td>0</td>\n",
       "      <td>[0.0, 0.0, 1.0, 0.0, 0.0, 0.0059203124, -0.009...</td>\n",
       "      <td>[0.3164701759815216, 0.3950572609901428, 0.384...</td>\n",
       "    </tr>\n",
       "    <tr>\n",
       "      <th>1</th>\n",
       "      <td>13611370</td>\n",
       "      <td>1</td>\n",
       "      <td>[0.0, 0.0, 1.0, 0.0, 0.0, 0.041891556, 0.07421...</td>\n",
       "      <td>[0.40869197249412537, 0.4197171926498413, 0.43...</td>\n",
       "    </tr>\n",
       "    <tr>\n",
       "      <th>2</th>\n",
       "      <td>13611370</td>\n",
       "      <td>2</td>\n",
       "      <td>[0.0, 0.0, 1.0, 0.0, 0.0, 0.06959672, 0.007380...</td>\n",
       "      <td>[0.31288942694664, 0.3575688898563385, 0.34350...</td>\n",
       "    </tr>\n",
       "    <tr>\n",
       "      <th>3</th>\n",
       "      <td>13611370</td>\n",
       "      <td>3</td>\n",
       "      <td>[0.0, 0.0, 1.0, 0.0, 0.0, 0.020754037, -0.0092...</td>\n",
       "      <td>[0.07747261971235275, 0.0885782241821289, 0.08...</td>\n",
       "    </tr>\n",
       "    <tr>\n",
       "      <th>4</th>\n",
       "      <td>13611370</td>\n",
       "      <td>4</td>\n",
       "      <td>[0.0, 0.0, 1.0, 0.0, 0.0, 0.022999126, -0.0048...</td>\n",
       "      <td>[0.08124927431344986, 0.07299420237541199, 0.0...</td>\n",
       "    </tr>\n",
       "    <tr>\n",
       "      <th>...</th>\n",
       "      <td>...</td>\n",
       "      <td>...</td>\n",
       "      <td>...</td>\n",
       "      <td>...</td>\n",
       "    </tr>\n",
       "    <tr>\n",
       "      <th>11834</th>\n",
       "      <td>13865481</td>\n",
       "      <td>11</td>\n",
       "      <td>[0.0, 0.0, 1.0, 0.0, 0.0, 0.15835816, 0.047548...</td>\n",
       "      <td>[0.12177974730730057, 0.16737879812717438, 0.0...</td>\n",
       "    </tr>\n",
       "    <tr>\n",
       "      <th>11835</th>\n",
       "      <td>13865481</td>\n",
       "      <td>12</td>\n",
       "      <td>[0.0, 0.0, 1.0, 0.0, 0.0, 0.07220793, -0.02518...</td>\n",
       "      <td>[0.06631159037351608, 0.17811435461044312, 0.1...</td>\n",
       "    </tr>\n",
       "    <tr>\n",
       "      <th>11836</th>\n",
       "      <td>13865481</td>\n",
       "      <td>13</td>\n",
       "      <td>[0.0, 0.0, 1.0, 0.0, 0.0, 0.044694398, -0.0544...</td>\n",
       "      <td>[0.24486178159713745, 0.2791087031364441, 0.20...</td>\n",
       "    </tr>\n",
       "    <tr>\n",
       "      <th>11837</th>\n",
       "      <td>13865481</td>\n",
       "      <td>14</td>\n",
       "      <td>[0.0, 0.0, 1.0, 0.0, 0.0, 0.09239984, -0.01345...</td>\n",
       "      <td>[0.1931067705154419, 0.22074195742607117, 0.20...</td>\n",
       "    </tr>\n",
       "    <tr>\n",
       "      <th>11838</th>\n",
       "      <td>13865481</td>\n",
       "      <td>15</td>\n",
       "      <td>[0.0, 0.0, 1.0, 0.0, 0.0, -0.020529058, -0.046...</td>\n",
       "      <td>[0.14295810461044312, 0.08402766287326813, 0.1...</td>\n",
       "    </tr>\n",
       "  </tbody>\n",
       "</table>\n",
       "<p>11839 rows × 4 columns</p>\n",
       "</div>"
      ],
      "text/plain": [
       "      sample_id  sentence_id  \\\n",
       "0      13611370            0   \n",
       "1      13611370            1   \n",
       "2      13611370            2   \n",
       "3      13611370            3   \n",
       "4      13611370            4   \n",
       "...         ...          ...   \n",
       "11834  13865481           11   \n",
       "11835  13865481           12   \n",
       "11836  13865481           13   \n",
       "11837  13865481           14   \n",
       "11838  13865481           15   \n",
       "\n",
       "                                                       X  \\\n",
       "0      [0.0, 0.0, 1.0, 0.0, 0.0, 0.0059203124, -0.009...   \n",
       "1      [0.0, 0.0, 1.0, 0.0, 0.0, 0.041891556, 0.07421...   \n",
       "2      [0.0, 0.0, 1.0, 0.0, 0.0, 0.06959672, 0.007380...   \n",
       "3      [0.0, 0.0, 1.0, 0.0, 0.0, 0.020754037, -0.0092...   \n",
       "4      [0.0, 0.0, 1.0, 0.0, 0.0, 0.022999126, -0.0048...   \n",
       "...                                                  ...   \n",
       "11834  [0.0, 0.0, 1.0, 0.0, 0.0, 0.15835816, 0.047548...   \n",
       "11835  [0.0, 0.0, 1.0, 0.0, 0.0, 0.07220793, -0.02518...   \n",
       "11836  [0.0, 0.0, 1.0, 0.0, 0.0, 0.044694398, -0.0544...   \n",
       "11837  [0.0, 0.0, 1.0, 0.0, 0.0, 0.09239984, -0.01345...   \n",
       "11838  [0.0, 0.0, 1.0, 0.0, 0.0, -0.020529058, -0.046...   \n",
       "\n",
       "                                                       Y  \n",
       "0      [0.3164701759815216, 0.3950572609901428, 0.384...  \n",
       "1      [0.40869197249412537, 0.4197171926498413, 0.43...  \n",
       "2      [0.31288942694664, 0.3575688898563385, 0.34350...  \n",
       "3      [0.07747261971235275, 0.0885782241821289, 0.08...  \n",
       "4      [0.08124927431344986, 0.07299420237541199, 0.0...  \n",
       "...                                                  ...  \n",
       "11834  [0.12177974730730057, 0.16737879812717438, 0.0...  \n",
       "11835  [0.06631159037351608, 0.17811435461044312, 0.1...  \n",
       "11836  [0.24486178159713745, 0.2791087031364441, 0.20...  \n",
       "11837  [0.1931067705154419, 0.22074195742607117, 0.20...  \n",
       "11838  [0.14295810461044312, 0.08402766287326813, 0.1...  \n",
       "\n",
       "[11839 rows x 4 columns]"
      ]
     },
     "execution_count": 11,
     "metadata": {},
     "output_type": "execute_result"
    }
   ],
   "source": [
    "new_df = preprocessed.groupby(['sample_id','sentence_id']).agg(X=(\"complete_target_X\",lambda x: list(itertools.chain.from_iterable(x))),Y=('cos_similary_cs_summmary',list))\n",
    "\n",
    "new_df.reset_index() "
   ]
  },
  {
   "cell_type": "code",
   "execution_count": 12,
   "metadata": {},
   "outputs": [],
   "source": [
    "model = Classifier(dim_input=9725, num_classes=25).to(device)\n",
    "if load_model:\n",
    "    model.load_state_dict(torch.load(model_load_path))"
   ]
  },
  {
   "cell_type": "code",
   "execution_count": 13,
   "metadata": {},
   "outputs": [],
   "source": [
    "sm =  nn.Softmax(dim=1)"
   ]
  },
  {
   "cell_type": "code",
   "execution_count": 14,
   "metadata": {},
   "outputs": [
    {
     "name": "stderr",
     "output_type": "stream",
     "text": [
      "C:\\Users\\NonAv\\AppData\\Local\\Temp\\ipykernel_15756\\1831164665.py:1: FutureWarning: Series.__getitem__ treating keys as positions is deprecated. In a future version, integer keys will always be treated as labels (consistent with DataFrame behavior). To access a value by position, use `ser.iloc[pos]`\n",
      "  X = torch.tensor(new_df[\"X\"]).to(device)\n",
      "C:\\Users\\NonAv\\AppData\\Local\\Temp\\ipykernel_15756\\1831164665.py:2: FutureWarning: Series.__getitem__ treating keys as positions is deprecated. In a future version, integer keys will always be treated as labels (consistent with DataFrame behavior). To access a value by position, use `ser.iloc[pos]`\n",
      "  Y = sm(torch.tensor(new_df[\"Y\"])).to(device)\n"
     ]
    }
   ],
   "source": [
    "X = torch.tensor(new_df[\"X\"]).to(device)\n",
    "Y = sm(torch.tensor(new_df[\"Y\"])).to(device)"
   ]
  },
  {
   "cell_type": "code",
   "execution_count": 15,
   "metadata": {},
   "outputs": [],
   "source": [
    "if mode == \"train\":\n",
    "    optimizer = torch.optim.SGD(model.parameters(), lr=0.001, momentum=0.9)\n",
    "    for t in range(num_iterations):\n",
    "        # Forward pass: compute predicted y using operations on Tensors.\n",
    "        optimizer.zero_grad()\n",
    "        y_pred = model(X)\n",
    "\n",
    "        # Compute and print loss using operations on Tensors.\n",
    "        # Now loss is a Tensor of shape (1,)\n",
    "        # loss.item() gets the scalar value held in the loss.\n",
    "        loss = (y_pred - Y).pow(2).sum()\n",
    "        if t % 100 == 99:\n",
    "            print(t, loss.item())\n",
    "\n",
    "        # Use autograd to compute the backward pass. This call will compute the\n",
    "        # gradient of loss with respect to all Tensors with requires_grad=True.\n",
    "        # After this call a.grad, b.grad. c.grad and d.grad will be Tensors holding\n",
    "        # the gradient of the loss with respect to a, b, c, d respectively.\n",
    "        loss.backward()\n",
    "        optimizer.step()"
   ]
  },
  {
   "cell_type": "code",
   "execution_count": 16,
   "metadata": {},
   "outputs": [],
   "source": [
    "if save_model:\n",
    "    torch.save(model.state_dict(), f\"{model_save_path}{datetime.today().strftime('%Y-%m-%d_%H_%M')}.pt\")"
   ]
  },
  {
   "cell_type": "code",
   "execution_count": 22,
   "metadata": {},
   "outputs": [],
   "source": [
    "def test(X,Y, model, loss_fn):\n",
    "    test_loss, correct = 0, 0\n",
    "    with torch.no_grad():\n",
    "        X, Y = X.to(device), Y.to(device)\n",
    "        pred = model(X)\n",
    "        test_loss = loss_fn(pred, Y)\n",
    "        #correct = \n",
    "        for i,similarities in enumerate(pred):\n",
    "            correct +=int(similarities.argmax() == Y[i].argmax())\n",
    "    print(f\"Test Error: \\n Accuracy: {(100*correct/len(Y)):>0.1f}%, Avg loss: {test_loss:>8f} \\n\")"
   ]
  },
  {
   "cell_type": "code",
   "execution_count": 26,
   "metadata": {},
   "outputs": [
    {
     "name": "stdout",
     "output_type": "stream",
     "text": [
      "Test Error: \n",
      " Accuracy: 23.1%, Avg loss: 0.886236 \n",
      "\n"
     ]
    }
   ],
   "source": [
    "if mode == \"test\" or mode == \"train\":\n",
    "    test(X,Y, model, lambda pred_logits, Y_test: (((pred_logits - Y_test).pow(2).sum(dim=-1)) * 1 / len(Y_test)).sum())"
   ]
  }
 ],
 "metadata": {
  "kernelspec": {
   "display_name": "Python 3 (ipykernel)",
   "language": "python",
   "name": "python3"
  },
  "language_info": {
   "codemirror_mode": {
    "name": "ipython",
    "version": 3
   },
   "file_extension": ".py",
   "mimetype": "text/x-python",
   "name": "python",
   "nbconvert_exporter": "python",
   "pygments_lexer": "ipython3",
   "version": "3.10.9"
  }
 },
 "nbformat": 4,
 "nbformat_minor": 4
}
