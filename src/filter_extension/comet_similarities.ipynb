{
 "cells": [
  {
   "cell_type": "markdown",
   "metadata": {},
   "source": [
    "dataset = \"dialogsum\" | \"samsum\"\n",
    "\n",
    "dataset_type = \"train\" | \"test\" | \"validation\""
   ]
  },
  {
   "cell_type": "code",
   "execution_count": null,
   "metadata": {},
   "outputs": [],
   "source": [
    "from datasets import load_dataset\n",
    "import json, pandas as pd, numpy as np \n",
    "from sentence_transformers import SentenceTransformer, util\n",
    "from tqdm import tqdm\n",
    "import matplotlib.pyplot as plt"
   ]
  },
  {
   "cell_type": "code",
   "execution_count": null,
   "metadata": {},
   "outputs": [],
   "source": [
    "dataset = \"samsum\"\n",
    "dataset_type = \"test\"\n",
    "save_result_comets = True\n",
    "\n",
    "\n",
    "FILTERED_COMET_FILE_PATH = f\"./comet_{dataset_type}_merged.json\"\n",
    "DIALOGSUM_FILE_PATH =  f\"./dialogsum.{dataset_type}.jsonl\"\n",
    "FILE_OUTPUT_FOLDER = \".\""
   ]
  },
  {
   "cell_type": "code",
   "execution_count": null,
   "metadata": {},
   "outputs": [],
   "source": [
    "summary_dict = None\n",
    "dilaogsum = None\n",
    "if dataset == \"samsum\":\n",
    "    samsum = load_dataset('samsum')\n",
    "    summary_dict = dict([(obj[\"id\"], obj[\"summary\"]) for obj in samsum[dataset_type]])\n",
    "elif dataset == \"dialogsum\":\n",
    "       dilaogsum = pd.read_json(path_or_buf=DIALOGSUM_FILE_PATH, lines=True)\n",
    "       summary_dict = dict([(obj[\"fname\"], obj[\"summary\"]) for _, obj in dilaogsum[[\"fname\",\"summary\"]].iterrows()])\n",
    "else:\n",
    "    raise NotImplementedError()"
   ]
  },
  {
   "cell_type": "code",
   "execution_count": null,
   "metadata": {},
   "outputs": [],
   "source": [
    "comet = None\n",
    "with open(FILTERED_COMET_FILE_PATH) as f:\n",
    "    comet = json.loads(f.read())"
   ]
  },
  {
   "cell_type": "code",
   "execution_count": null,
   "metadata": {},
   "outputs": [],
   "source": [
    "cs_unraveled = []\n",
    "for sample_id, sammple_cs in comet.items():\n",
    "    for sentence_num, sentence_obj in enumerate(sammple_cs):\n",
    "        for cs_key_or_sentence, cs_arr_or_sentence in sentence_obj.items():\n",
    "            if type(cs_arr_or_sentence) == type([]):\n",
    "                for cs in cs_arr_or_sentence:\n",
    "                    cs_unraveled.append({\"sample_id\":sample_id,\"sentence_id\":sentence_num, \\\n",
    "                    \"sentence\":sentence_obj[\"sentence\"], \"cs_type\":cs_key_or_sentence, \"cs\":cs, \"summary\":summary_dict[sample_id]})"
   ]
  },
  {
   "cell_type": "code",
   "execution_count": null,
   "metadata": {},
   "outputs": [
    {
     "data": {
      "text/plain": [
       "True"
      ]
     },
     "execution_count": 6,
     "metadata": {},
     "output_type": "execute_result"
    }
   ],
   "source": [
    "len([obj[\"sentence\"] for obj in cs_unraveled]) == sum([len(sentences) for _, sentences in comet.items()])*25"
   ]
  },
  {
   "cell_type": "markdown",
   "metadata": {},
   "source": [
    "### Model details:\n",
    "https://github.com/UKPLab/sentence-transformers"
   ]
  },
  {
   "cell_type": "code",
   "execution_count": null,
   "metadata": {},
   "outputs": [],
   "source": [
    "sbert = SentenceTransformer('all-MiniLM-L6-v2', device='cuda')"
   ]
  },
  {
   "cell_type": "code",
   "execution_count": null,
   "metadata": {},
   "outputs": [
    {
     "data": {
      "text/plain": [
       "{'sample_id': '13611370',\n",
       " 'sentence_id': 0,\n",
       " 'sentence': 'Derek: Judy, r you leaving for the weekend?',\n",
       " 'cs_type': 'HinderedBy',\n",
       " 'cs': ' They have to go to work.',\n",
       " 'summary': 'Judy is staying for the weekend. Derek asks Judy to feed his animals on Friday and Saturday. Judy agrees. Derek will give her his keys on Thursday and provide Judy with details.'}"
      ]
     },
     "execution_count": 8,
     "metadata": {},
     "output_type": "execute_result"
    }
   ],
   "source": [
    "cs_unraveled[0]"
   ]
  },
  {
   "cell_type": "code",
   "execution_count": null,
   "metadata": {},
   "outputs": [
    {
     "name": "stderr",
     "output_type": "stream",
     "text": [
      "100%|██████████| 100/100 [00:03<00:00, 33.28it/s]\n"
     ]
    }
   ],
   "source": [
    "cs_final= []\n",
    "for cs_obj in tqdm(cs_unraveled):\n",
    "    cs_emb =  sbert.encode(cs_obj[\"cs\"])\n",
    "    summary_emb = sbert.encode(cs_obj[\"summary\"])\n",
    "    sentence_emb = sbert.encode(cs_obj[\"sentence\"])\n",
    "    cs_final.append({**cs_obj,\n",
    "                     \"sentence_encoded\":sentence_emb,\"cs_encoded\":cs_emb, \"sumary_encoded\":summary_emb,\n",
    "                     \"cos_similary_cs_summmary\":float(util.cos_sim(cs_emb, summary_emb)),\n",
    "                     \"cos_similary_cs_sentence\":float(util.cos_sim(cs_emb, sentence_emb))})"
   ]
  },
  {
   "cell_type": "code",
   "execution_count": null,
   "metadata": {},
   "outputs": [],
   "source": [
    "cs_dp = pd.DataFrame(cs_final)"
   ]
  },
  {
   "cell_type": "code",
   "execution_count": null,
   "metadata": {},
   "outputs": [
    {
     "data": {
      "text/html": [
       "<div>\n",
       "<style scoped>\n",
       "    .dataframe tbody tr th:only-of-type {\n",
       "        vertical-align: middle;\n",
       "    }\n",
       "\n",
       "    .dataframe tbody tr th {\n",
       "        vertical-align: top;\n",
       "    }\n",
       "\n",
       "    .dataframe thead th {\n",
       "        text-align: right;\n",
       "    }\n",
       "</style>\n",
       "<table border=\"1\" class=\"dataframe\">\n",
       "  <thead>\n",
       "    <tr style=\"text-align: right;\">\n",
       "      <th></th>\n",
       "      <th>sample_id</th>\n",
       "      <th>sentence_id</th>\n",
       "      <th>sentence</th>\n",
       "      <th>cs_type</th>\n",
       "      <th>cs</th>\n",
       "      <th>summary</th>\n",
       "      <th>sentence_encoded</th>\n",
       "      <th>cs_encoded</th>\n",
       "      <th>sumary_encoded</th>\n",
       "      <th>cos_similary_cs_summmary</th>\n",
       "      <th>cos_similary_cs_sentence</th>\n",
       "    </tr>\n",
       "  </thead>\n",
       "  <tbody>\n",
       "    <tr>\n",
       "      <th>0</th>\n",
       "      <td>13611370</td>\n",
       "      <td>0</td>\n",
       "      <td>Derek: Judy, r you leaving for the weekend?</td>\n",
       "      <td>HinderedBy</td>\n",
       "      <td>They have to go to work.</td>\n",
       "      <td>Judy is staying for the weekend. Derek asks Ju...</td>\n",
       "      <td>[0.027555209, -0.009264487, 0.10818122, 0.0124...</td>\n",
       "      <td>[0.005920287, -0.009283238, 0.010029707, 0.053...</td>\n",
       "      <td>[0.054274157, 0.019696146, 0.09913943, -0.0035...</td>\n",
       "      <td>0.316470</td>\n",
       "      <td>0.222532</td>\n",
       "    </tr>\n",
       "    <tr>\n",
       "      <th>1</th>\n",
       "      <td>13611370</td>\n",
       "      <td>0</td>\n",
       "      <td>Derek: Judy, r you leaving for the weekend?</td>\n",
       "      <td>HinderedBy</td>\n",
       "      <td>The weekend is already booked up.</td>\n",
       "      <td>Judy is staying for the weekend. Derek asks Ju...</td>\n",
       "      <td>[0.027555209, -0.009264487, 0.10818122, 0.0124...</td>\n",
       "      <td>[0.017274665, -0.036981095, 0.03747749, 0.0355...</td>\n",
       "      <td>[0.054274157, 0.019696146, 0.09913943, -0.0035...</td>\n",
       "      <td>0.395057</td>\n",
       "      <td>0.392030</td>\n",
       "    </tr>\n",
       "  </tbody>\n",
       "</table>\n",
       "</div>"
      ],
      "text/plain": [
       "  sample_id  sentence_id                                     sentence  \\\n",
       "0  13611370            0  Derek: Judy, r you leaving for the weekend?   \n",
       "1  13611370            0  Derek: Judy, r you leaving for the weekend?   \n",
       "\n",
       "      cs_type                                  cs  \\\n",
       "0  HinderedBy            They have to go to work.   \n",
       "1  HinderedBy   The weekend is already booked up.   \n",
       "\n",
       "                                             summary  \\\n",
       "0  Judy is staying for the weekend. Derek asks Ju...   \n",
       "1  Judy is staying for the weekend. Derek asks Ju...   \n",
       "\n",
       "                                    sentence_encoded  \\\n",
       "0  [0.027555209, -0.009264487, 0.10818122, 0.0124...   \n",
       "1  [0.027555209, -0.009264487, 0.10818122, 0.0124...   \n",
       "\n",
       "                                          cs_encoded  \\\n",
       "0  [0.005920287, -0.009283238, 0.010029707, 0.053...   \n",
       "1  [0.017274665, -0.036981095, 0.03747749, 0.0355...   \n",
       "\n",
       "                                      sumary_encoded  \\\n",
       "0  [0.054274157, 0.019696146, 0.09913943, -0.0035...   \n",
       "1  [0.054274157, 0.019696146, 0.09913943, -0.0035...   \n",
       "\n",
       "   cos_similary_cs_summmary  cos_similary_cs_sentence  \n",
       "0                  0.316470                  0.222532  \n",
       "1                  0.395057                  0.392030  "
      ]
     },
     "execution_count": 11,
     "metadata": {},
     "output_type": "execute_result"
    }
   ],
   "source": [
    "cs_dp.iloc[:2,:]"
   ]
  },
  {
   "cell_type": "code",
   "execution_count": null,
   "metadata": {},
   "outputs": [
    {
     "data": {
      "text/plain": [
       "{384}"
      ]
     },
     "execution_count": 25,
     "metadata": {},
     "output_type": "execute_result"
    }
   ],
   "source": [
    "set(cs_dp[\"cs_encoded\"].transform(len))"
   ]
  },
  {
   "cell_type": "code",
   "execution_count": null,
   "metadata": {},
   "outputs": [
    {
     "data": {
      "text/plain": [
       "dtype('float32')"
      ]
     },
     "execution_count": 32,
     "metadata": {},
     "output_type": "execute_result"
    }
   ],
   "source": [
    "cs_dp[\"cs_encoded\"][0].dtype"
   ]
  },
  {
   "cell_type": "code",
   "execution_count": null,
   "metadata": {},
   "outputs": [],
   "source": [
    "import re"
   ]
  },
  {
   "cell_type": "code",
   "execution_count": null,
   "metadata": {},
   "outputs": [],
   "source": [
    "peaks = [max(list(cs_dp[\"cos_similary_cs_summmary\"])[25*(i-1):25*i]) for i in range(1,int(len(cs_dp)/25))]"
   ]
  },
  {
   "cell_type": "code",
   "execution_count": 13,
   "metadata": {},
   "outputs": [],
   "source": [
    "best_cs_per_sentence_ours = cs_dp.loc[cs_dp.groupby(['sample_id','sentence_id'])['cos_similary_cs_summmary'].idxmax()]"
   ]
  },
  {
   "cell_type": "code",
   "execution_count": 14,
   "metadata": {},
   "outputs": [],
   "source": [
    "best_cs_per_sentence_theirs = cs_dp.loc[cs_dp.groupby(['sample_id','sentence_id'])['cos_similary_cs_sentence'].idxmax()]"
   ]
  },
  {
   "cell_type": "code",
   "execution_count": 15,
   "metadata": {},
   "outputs": [],
   "source": [
    "peaks_ours = best_cs_per_sentence_ours[\"cos_similary_cs_summmary\"]\n",
    "peaks_theirs = best_cs_per_sentence_theirs[\"cos_similary_cs_sentence\"]"
   ]
  },
  {
   "cell_type": "code",
   "execution_count": 16,
   "metadata": {},
   "outputs": [
    {
     "data": {
      "text/plain": [
       "(0.39962610602378845, 0.07404600859623663)"
      ]
     },
     "execution_count": 16,
     "metadata": {},
     "output_type": "execute_result"
    }
   ],
   "source": [
    "np.average(peaks_ours), np.std(peaks_ours)"
   ]
  },
  {
   "cell_type": "code",
   "execution_count": 17,
   "metadata": {},
   "outputs": [
    {
     "data": {
      "text/plain": [
       "(0.5367672815918922, 0.14855662151192137)"
      ]
     },
     "execution_count": 17,
     "metadata": {},
     "output_type": "execute_result"
    }
   ],
   "source": [
    "np.average(peaks_theirs), np.std(peaks_theirs)"
   ]
  },
  {
   "cell_type": "code",
   "execution_count": 18,
   "metadata": {},
   "outputs": [
    {
     "data": {
      "text/plain": [
       "<Axes: >"
      ]
     },
     "execution_count": 18,
     "metadata": {},
     "output_type": "execute_result"
    },
    {
     "data": {
      "image/png": "[encoded data removed]",
      "text/plain": [
       "<Figure size 640x480 with 1 Axes>"
      ]
     },
     "metadata": {},
     "output_type": "display_data"
    }
   ],
   "source": [
    "best_cs_per_sentence_ours['cs_type'].value_counts().plot.bar()"
   ]
  },
  {
   "cell_type": "code",
   "execution_count": 19,
   "metadata": {},
   "outputs": [
    {
     "data": {
      "text/plain": [
       "<Axes: >"
      ]
     },
     "execution_count": 19,
     "metadata": {},
     "output_type": "execute_result"
    },
    {
     "data": {
      "image/png": "[encoded data removed]",
      "text/plain": [
       "<Figure size 640x480 with 1 Axes>"
      ]
     },
     "metadata": {},
     "output_type": "display_data"
    }
   ],
   "source": [
    "best_cs_per_sentence_theirs['cs_type'].value_counts().plot.bar()"
   ]
  },
  {
   "cell_type": "code",
   "execution_count": 20,
   "metadata": {},
   "outputs": [
    {
     "data": {
      "image/png": "[encoded data removed]",
      "text/plain": [
       "<Figure size 640x480 with 1 Axes>"
      ]
     },
     "metadata": {},
     "output_type": "display_data"
    }
   ],
   "source": [
    "\n",
    "max_drow = 70\n",
    "plt.plot(range(0,len(peaks_ours[:max_drow])),peaks_ours[:max_drow],  label =\"ours\")\n",
    "plt.plot(range(0,len(peaks_theirs[:max_drow])), peaks_theirs[:max_drow],  label =\"theirs\", linestyle=\"--\")\n",
    "plt.plot(range(0,len(peaks_theirs[:max_drow])), np.array([n1+n2/2 for n1, n2 in zip(peaks_theirs[:max_drow], peaks_ours[:max_drow])])/max([n1+n2/2 for n1, n2 in zip(peaks_theirs[:max_drow], peaks_ours[:max_drow])]),  label =\"sum normalized\", linestyle=\"-.\")\n",
    "plt.title(\"peaks for sentence compared\")\n",
    "plt.legend() \n",
    "plt.show()"
   ]
  },
  {
   "cell_type": "code",
   "execution_count": 21,
   "metadata": {},
   "outputs": [],
   "source": [
    "def convert_back_to_dict(df):\n",
    "    converted_df = {}\n",
    "    for _, row in df.iterrows():\n",
    "        if converted_df.get(str(row[\"sample_id\"])):\n",
    "            converted_df[str(row[\"sample_id\"])][str(row[\"sentence_id\"])] = \\\n",
    "                {\"sentence\":row[\"sentence\"], \"relation\":row[\"cs_type\"], \"out\":row[\"cs\"]}\n",
    "        else:  converted_df[str(row[\"sample_id\"])] = \\\n",
    "            {str(row[\"sentence_id\"]): {\"sentence\":row[\"sentence\"], \"relation\":row[\"cs_type\"], \"out\":row[\"cs\"]}}\n",
    "    return converted_df"
   ]
  },
  {
   "cell_type": "code",
   "execution_count": 22,
   "metadata": {},
   "outputs": [],
   "source": [
    "def save_files(converted_dfs_and_paths):\n",
    "    for converted_df, path in converted_dfs_and_paths:\n",
    "        with open(path, \"w\") as file:\n",
    "            file.write(json.dumps(converted_df, indent=2))"
   ]
  },
  {
   "cell_type": "code",
   "execution_count": 96,
   "metadata": {},
   "outputs": [],
   "source": [
    "if save_result_comets:\n",
    "    converted_dfs_and_paths = [(convert_back_to_dict(best_cs_per_sentence_ours),\\\n",
    "                                f\"{FILE_OUTPUT_FOLDER}/comet_{dataset}_{dataset_type}_z_ours.json\"),\\\n",
    "                                (convert_back_to_dict(best_cs_per_sentence_theirs),\\\n",
    "                                f\"{FILE_OUTPUT_FOLDER}/comet_{dataset}_{dataset_type}_z_theirs.json\")]\n",
    "    save_files(converted_dfs_and_paths)\n",
    "    cs_dp[[\"sample_id\", \"sentence_id\", \"sentence\", \"cs_type\", \"cs\",\"cs_encoded\", \"summary\", \"cos_similary_cs_summmary\", \"cos_similary_cs_sentence\"]].to_pickle((f\"{FILE_OUTPUT_FOLDER}/comet_{dataset}_{dataset_type}_z_entire.pkl\"))"
   ]
  }
 ],
 "metadata": {
  "kernelspec": {
   "display_name": "sick",
   "language": "python",
   "name": "python3"
  },
  "language_info": {
   "codemirror_mode": {
    "name": "ipython",
    "version": 3
   },
   "file_extension": ".py",
   "mimetype": "text/x-python",
   "name": "python",
   "nbconvert_exporter": "python",
   "pygments_lexer": "ipython3",
   "version": "3.10.9"
  }
 },
 "nbformat": 4,
 "nbformat_minor": 2
}
